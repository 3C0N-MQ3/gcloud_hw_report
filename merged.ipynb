{
 "cells": [
  {
   "cell_type": "markdown",
   "id": "d3604af7",
   "metadata": {
    "cell_marker": "\"\"\"",
    "lines_to_next_cell": 0
   },
   "source": [
    "<script src=\"https://cdn.jsdelivr.net/npm/mathjax@3/es5/tex-mml-chtml.js\"></script>"
   ]
  },
  {
   "cell_type": "markdown",
   "id": "52988e89",
   "metadata": {
    "lines_to_next_cell": 0
   },
   "source": [
    "<div style=\"text-align: left;\">\n",
    "    <h1>Cloud Functions and Storage</h1>\n",
    "    <h4>Applications of Cloud Computing and Big Data - ECON 446</h3>\n",
    "    <div style=\"padding: 20px 0;\">\n",
    "        <hr style=\"border: 0; height: 1px; background-image: linear-gradient(to right, rgba(0, 0, 0, 0), rgba(0, 0, 0, 0.75), rgba(0, 0, 0, 0));\">\n",
    "        <p><em>Bella Rakhlina</em><br>\n",
    "        <em>Lora Yovcheva</em><br>\n",
    "        <em>Mauricio Vargas-Estrada</em><br>\n",
    "        <br>Master Of Quantitative Economics<br>\n",
    "        University of California - Los Angeles</p>\n",
    "        <hr style=\"border: 0; height: 1px; background-image: linear-gradient(to right, rgba(0, 0, 0, 0), rgba(0, 0, 0, 0.75), rgba(0, 0, 0, 0));\">\n",
    "    </div>\n",
    "</div>"
   ]
  },
  {
   "cell_type": "code",
   "execution_count": 1,
   "id": "d91287fa",
   "metadata": {},
   "outputs": [],
   "source": [
    "import requests\n",
    "import os \n",
    "import joblib\n",
    "import subprocess\n",
    "import pandas as pd\n",
    "import numpy as np\n",
    "import json\n",
    "\n",
    "from google.cloud import storage\n",
    "from io import StringIO, BytesIO\n",
    "from toolz import pipe\n",
    "\n",
    "\n",
    "from sklearn.impute import KNNImputer\n",
    "from sklearn.preprocessing import StandardScaler\n",
    "from sklearn.neural_network import MLPClassifier\n",
    "from sklearn.model_selection import train_test_split, cross_val_score, StratifiedKFold"
   ]
  },
  {
   "cell_type": "markdown",
   "id": "caecd454",
   "metadata": {
    "cell_marker": "\"\"\"",
    "lines_to_next_cell": 0
   },
   "source": [
    "## First Cloud Function"
   ]
  },
  {
   "cell_type": "markdown",
   "id": "aaaae8c8",
   "metadata": {
    "lines_to_next_cell": 0
   },
   "source": [
    "<div style=\"border: 1px solid black; border-radius: 5px; overflow: hidden;\">\n",
    "    <div style=\"background-color: black; color: white; padding: 5px; text-align: left;\">\n",
    "       a.) \n",
    "    </div>\n",
    "    <div style=\"padding: 10px;\">\n",
    "        Post a cloud function that takes in a string of numbers and returns a json file that contains the the sum of all of the single digit numbers.\n",
    "    </div>\n",
    "    <div style=\"padding: 10px;\">\n",
    "    \n",
    "    Example : input =\"12345\"\n",
    "    output = 1+2+3+4+5 = 15\n",
    "    returns({\"answer\":15})"
   ]
  },
  {
   "cell_type": "markdown",
   "id": "7b36586f",
   "metadata": {
    "cell_marker": "\"\"\"",
    "lines_to_next_cell": 0
   },
   "source": [
    "The source code is available in the following GitHub repository:  \n",
    "\n",
    "[ECON446-ORG/first-cloud-function](https://github.com/ECON446-ORG/first-cloud-function)\n",
    "\n",
    "The cloud functions is deployed directly from the GitHub repository to Google Cloud Platform using Cloud Build and a trigger tracking commits to the `main` branch."
   ]
  },
  {
   "cell_type": "markdown",
   "id": "02a38c41",
   "metadata": {
    "lines_to_next_cell": 0
   },
   "source": [
    "<div style=\"border: 1px solid black; border-radius: 5px; overflow: hidden;\">\n",
    "    <div style=\"background-color: black; color: white; padding: 5px; text-align: left;\">\n",
    "       b.) \n",
    "    </div>\n",
    "    <div style=\"padding: 10px;\">\n",
    "        Query your cloud function using requests for example input \"012937\", \"2\" and \"9999999999999\".\n",
    "</div>"
   ]
  },
  {
   "cell_type": "code",
   "execution_count": 2,
   "id": "39275ed4",
   "metadata": {
    "lines_to_next_cell": 0
   },
   "outputs": [],
   "source": [
    "url = 'https://us-west2-my-first-function-422520.cloudfunctions.net/first_cloud_function'"
   ]
  },
  {
   "cell_type": "code",
   "execution_count": 3,
   "id": "ccc14b9e",
   "metadata": {
    "lines_to_next_cell": 0
   },
   "outputs": [
    {
     "name": "stdout",
     "output_type": "stream",
     "text": [
      "{\"numbers\": \"012937\", \"sum\": 22}\n"
     ]
    }
   ],
   "source": [
    "print(requests.post(url, data='012937').content.decode('utf-8'))"
   ]
  },
  {
   "cell_type": "code",
   "execution_count": 4,
   "id": "d82f1b65",
   "metadata": {
    "lines_to_next_cell": 0
   },
   "outputs": [
    {
     "name": "stdout",
     "output_type": "stream",
     "text": [
      "{\"numbers\": \"2\", \"sum\": 2}\n"
     ]
    }
   ],
   "source": [
    "print(requests.post(url, data='2').content.decode('utf-8'))"
   ]
  },
  {
   "cell_type": "code",
   "execution_count": 5,
   "id": "3639f411",
   "metadata": {
    "lines_to_next_cell": 0
   },
   "outputs": [
    {
     "name": "stdout",
     "output_type": "stream",
     "text": [
      "{\"numbers\": \"9999999999999\", \"sum\": 117}\n"
     ]
    }
   ],
   "source": [
    "print(requests.post(url, data='9999999999999').content.decode('utf-8'))"
   ]
  },
  {
   "cell_type": "markdown",
   "id": "8e188ea0",
   "metadata": {
    "lines_to_next_cell": 0
   },
   "source": [
    "<div style=\"border: 1px solid black; border-radius: 5px; overflow: hidden;\">\n",
    "    <div style=\"background-color: black; color: white; padding: 5px; text-align: left;\">\n",
    "       c.) \n",
    "    </div>\n",
    "    <div style=\"padding: 10px;\">\n",
    "        Add srborghese@g.ucla.edu to your cloud project via IAM.\n",
    "</div>"
   ]
  },
  {
   "cell_type": "markdown",
   "id": "eeac944b",
   "metadata": {
    "cell_marker": "\"\"\"",
    "lines_to_next_cell": 0
   },
   "source": [
    "User added in `iam` with `Viewer` role."
   ]
  },
  {
   "cell_type": "markdown",
   "id": "ed2fe1a3",
   "metadata": {
    "cell_marker": "\"\"\"",
    "lines_to_next_cell": 0
   },
   "source": [
    "## Automated Webscraping"
   ]
  },
  {
   "cell_type": "markdown",
   "id": "75595ae4",
   "metadata": {
    "lines_to_next_cell": 0
   },
   "source": [
    "<div style=\"border: 1px solid black; border-radius: 5px; overflow: hidden;\">\n",
    "    <div style=\"background-color: black; color: white; padding: 5px; text-align: left;\">\n",
    "       a.) \n",
    "    </div>\n",
    "    <div style=\"padding: 10px;\">\n",
    "        Find a website that is scrapable with Beautiful soup that updates with some frequency. Build a cloud function to programatically scrape the useful content.\n",
    "    </div>"
   ]
  },
  {
   "cell_type": "markdown",
   "id": "bf23fa86",
   "metadata": {
    "cell_marker": "\"\"\"",
    "lines_to_next_cell": 0
   },
   "source": [
    "The source code is available in the following GitHub repository:  \n",
    "\n",
    "[ECON446-ORG/automated-webscraping](https://github.com/ECON446-ORG/automated-webscraping)\n",
    "\n",
    "The cloud functions is deployed directly from the GitHub repository to Google Cloud Platform using Cloud Build and a trigger tracking commits to the `main` branch.\n",
    "\n",
    "The webscraped data is directly stored in a Google Cloud Storage bucket, and a scheduler is used to trigger the cloud function every day at 12:00 UTC."
   ]
  },
  {
   "cell_type": "markdown",
   "id": "ccca7fa3",
   "metadata": {
    "lines_to_next_cell": 0
   },
   "source": [
    "<div style=\"border: 1px solid black; border-radius: 5px; overflow: hidden;\">\n",
    "    <div style=\"background-color: black; color: white; padding: 5px; text-align: left;\">\n",
    "       b.) \n",
    "    </div>\n",
    "    <div style=\"padding: 10px;\">\n",
    "        Query your stored files.\n",
    "</div>"
   ]
  },
  {
   "cell_type": "code",
   "execution_count": 6,
   "id": "08e42adc",
   "metadata": {
    "lines_to_next_cell": 0
   },
   "outputs": [],
   "source": [
    "url = 'https://us-central1-automated-webscraping.cloudfunctions.net/main'"
   ]
  },
  {
   "cell_type": "code",
   "execution_count": 7,
   "id": "e632db8a",
   "metadata": {
    "lines_to_next_cell": 0
   },
   "outputs": [
    {
     "name": "stdout",
     "output_type": "stream",
     "text": [
      "Webscraping Old School RuneScape Gold Prices\n",
      "========================================\n",
      "Alltime: From 2023-06-04 21:16:00 to 2024-06-03 18:00:00\n",
      "90 Day: From 2024-03-05 21:15:00 to 2024-06-03 18:00:00\n",
      "30 Days: From 2024-05-04 21:15:00 to 2024-06-03 18:00:00\n",
      "7 Days: From 2024-05-27 21:15:00 to 2024-06-03 18:00:00\n",
      "1 Day: From 2024-06-02 21:15:00 to 2024-06-03 18:00:00\n",
      "========================================\n"
     ]
    }
   ],
   "source": [
    "print(requests.get(url).content.decode('utf-8'))"
   ]
  },
  {
   "cell_type": "code",
   "execution_count": 8,
   "id": "d5242ff3",
   "metadata": {
    "lines_to_next_cell": 0
   },
   "outputs": [],
   "source": [
    "df = pipe(\n",
    "    storage.Client(),\n",
    "    lambda x: x.bucket('main_webscraping'),\n",
    "    lambda x: x.blob('1 Day.csv'),\n",
    "    lambda x: x.download_as_string(),\n",
    "    lambda x: pd.read_csv(StringIO(x.decode('utf-8'))),\n",
    ")"
   ]
  },
  {
   "cell_type": "code",
   "execution_count": 9,
   "id": "a76cc822",
   "metadata": {
    "lines_to_next_cell": 0
   },
   "outputs": [
    {
     "name": "stdout",
     "output_type": "stream",
     "text": [
      "                  date  price\n",
      "0  2024-06-02 21:15:00  0.197\n",
      "1  2024-06-02 23:00:00  0.204\n",
      "2  2024-06-03 02:45:00  0.197\n",
      "3  2024-06-03 03:45:00  0.192\n",
      "4  2024-06-03 05:00:00  0.186\n",
      "5  2024-06-03 13:45:00  0.192\n",
      "6  2024-06-03 18:00:00  0.204\n"
     ]
    }
   ],
   "source": [
    "print(df)"
   ]
  },
  {
   "cell_type": "markdown",
   "id": "b9f1e4a3",
   "metadata": {
    "lines_to_next_cell": 0
   },
   "source": [
    "<div style=\"border: 1px solid black; border-radius: 5px; overflow: hidden;\">\n",
    "    <div style=\"background-color: black; color: white; padding: 5px; text-align: left;\">\n",
    "       c.) \n",
    "    </div>\n",
    "    <div style=\"padding: 10px;\">\n",
    "        State how this could be useful in a business setting.\n",
    "    </div>"
   ]
  },
  {
   "cell_type": "markdown",
   "id": "1f4a688f",
   "metadata": {
    "cell_marker": "\"\"\"",
    "lines_to_next_cell": 0
   },
   "source": [
    "The RuneScape is a free-to-play massively multiplayer online role-playing game. We web scraped the price of OSRS (Old School RuneScape) Gold, which serves as the primary means to facilitate trades, elevate skill levels, obtain powerful equipment, and indulge in a multitude of entertaining activities in Old School RuneScape. According to Jagex, the developer of RuneScape, selling gold and account names is illegal, but the demand and supply for these goods still exist. On the supply side, Venezuelans, who are facing a severe socioeconomic and political crisis that has led to hyperinflation, are playing RuneScape for up to 10 hours a day. This is because mining gold in the game for 10 hours can be more profitable than working two weeks in their local economy. For gold sellers, staying updated on the daily prices is crucial. This information can help them maximize profits by timing their sales when prices are high. Additionally, businesses that operate in the secondary market for virtual goods can use this data to make informed decisions about buying, selling, and trading OSRS gold. Knowing the trends and fluctuations in gold prices can help them optimize their inventory, set competitive prices, and anticipate market movements. "
   ]
  },
  {
   "cell_type": "markdown",
   "id": "30284d8b",
   "metadata": {
    "cell_marker": "\"\"\"",
    "lines_to_next_cell": 0
   },
   "source": [
    "## Machine Learning Model"
   ]
  },
  {
   "cell_type": "markdown",
   "id": "c13bd300",
   "metadata": {
    "lines_to_next_cell": 0
   },
   "source": [
    "<div style=\"border: 1px solid black; border-radius: 5px; overflow: hidden;\">\n",
    "    <div style=\"background-color: black; color: white; padding: 5px; text-align: left;\">\n",
    "       a.) \n",
    "    </div>\n",
    "    <div style=\"padding: 10px;\">\n",
    "        Build some machine learning model using scikit learn and make it queriable using cloud functions.\n",
    "    </div>"
   ]
  },
  {
   "cell_type": "markdown",
   "id": "dfd43e28",
   "metadata": {
    "cell_marker": "\"\"\"",
    "lines_to_next_cell": 0
   },
   "source": [
    "### Fitting the Model"
   ]
  },
  {
   "cell_type": "code",
   "execution_count": 11,
   "id": "32e18f59",
   "metadata": {
    "lines_to_next_cell": 0
   },
   "outputs": [],
   "source": [
    "pd.options.display.float_format = '{:,.0f}'.format"
   ]
  },
  {
   "cell_type": "code",
   "execution_count": 12,
   "id": "aa47f35f",
   "metadata": {
    "lines_to_next_cell": 0
   },
   "outputs": [],
   "source": [
    "data = pd.read_csv('data/healthcare-dataset-stroke-data.csv')"
   ]
  },
  {
   "cell_type": "code",
   "execution_count": 13,
   "id": "b7596df3",
   "metadata": {
    "lines_to_next_cell": 0
   },
   "outputs": [
    {
     "name": "stdout",
     "output_type": "stream",
     "text": [
      "      id  gender  age  hypertension  heart_disease ever_married  \\\n",
      "0   9046    Male   67             0              1          Yes   \n",
      "1  51676  Female   61             0              0          Yes   \n",
      "2  31112    Male   80             0              1          Yes   \n",
      "3  60182  Female   49             0              0          Yes   \n",
      "4   1665  Female   79             1              0          Yes   \n",
      "\n",
      "       work_type Residence_type  avg_glucose_level  bmi   smoking_status  \\\n",
      "0        Private          Urban                229   37  formerly smoked   \n",
      "1  Self-employed          Rural                202  NaN     never smoked   \n",
      "2        Private          Rural                106   32     never smoked   \n",
      "3        Private          Urban                171   34           smokes   \n",
      "4  Self-employed          Rural                174   24     never smoked   \n",
      "\n",
      "   stroke  \n",
      "0       1  \n",
      "1       1  \n",
      "2       1  \n",
      "3       1  \n",
      "4       1  \n"
     ]
    }
   ],
   "source": [
    "print(data.head(5))"
   ]
  },
  {
   "cell_type": "code",
   "execution_count": 14,
   "id": "7cf92f68",
   "metadata": {
    "lines_to_next_cell": 0
   },
   "outputs": [],
   "source": [
    "data['age'] = data['age'].round()\n",
    "data['avg_glucose_level'] = data['avg_glucose_level'].round()\n",
    "data['bmi'] = data['bmi'].round()\n",
    "data = data[data['gender'] != 'Other']"
   ]
  },
  {
   "cell_type": "code",
   "execution_count": 15,
   "id": "d03bb371",
   "metadata": {
    "lines_to_next_cell": 0
   },
   "outputs": [
    {
     "name": "stdout",
     "output_type": "stream",
     "text": [
      "count of each unique value in 'smoking_status' column:\n",
      "smoking_status\n",
      "never smoked       1892\n",
      "Unknown            1544\n",
      "formerly smoked     884\n",
      "smokes              789\n",
      "Name: count, dtype: int64\n"
     ]
    }
   ],
   "source": [
    "value_counts = data['smoking_status'].value_counts()\n",
    "print(\"count of each unique value in 'smoking_status' column:\")\n",
    "print(value_counts)"
   ]
  },
  {
   "cell_type": "code",
   "execution_count": 16,
   "id": "03b48d93",
   "metadata": {
    "lines_to_next_cell": 0
   },
   "outputs": [],
   "source": [
    "data['gender'] = data['gender'].replace({'Male': 0, 'Female': 1})\n",
    "data['smoking_status'] = data['smoking_status'].replace(\n",
    "    {'never smoked': 1, 'Unknown': 2,'formerly smoked': 3, 'smokes': 4 }\n",
    ")"
   ]
  },
  {
   "cell_type": "code",
   "execution_count": 17,
   "id": "53e820fb",
   "metadata": {
    "lines_to_next_cell": 0
   },
   "outputs": [],
   "source": [
    "imputer = KNNImputer(n_neighbors=5)\n",
    "data[['bmi']] = imputer.fit_transform(data[['bmi']])"
   ]
  },
  {
   "cell_type": "code",
   "execution_count": 18,
   "id": "d53522b6",
   "metadata": {
    "lines_to_next_cell": 0
   },
   "outputs": [],
   "source": [
    "data_select = data[\n",
    "    [\n",
    "        \"age\",\n",
    "        \"gender\",\n",
    "        \"heart_disease\",\n",
    "        \"avg_glucose_level\",\n",
    "        \"bmi\",\n",
    "        \"smoking_status\",\n",
    "        \"stroke\"\n",
    "    ]\n",
    "]"
   ]
  },
  {
   "cell_type": "code",
   "execution_count": 19,
   "id": "b9a7de21",
   "metadata": {
    "lines_to_next_cell": 0
   },
   "outputs": [],
   "source": [
    "y = data[[\"stroke\"]]\n",
    "X = data_select.drop(columns=[\"stroke\"])"
   ]
  },
  {
   "cell_type": "code",
   "execution_count": 20,
   "id": "59ee5b08",
   "metadata": {
    "lines_to_next_cell": 0
   },
   "outputs": [
    {
     "name": "stderr",
     "output_type": "stream",
     "text": [
      "/home/m4wnn/anaconda3/envs/web-env/lib/python3.11/site-packages/sklearn/neural_network/_multilayer_perceptron.py:1098: DataConversionWarning: A column-vector y was passed when a 1d array was expected. Please change the shape of y to (n_samples, ), for example using ravel().\n",
      "  y = column_or_1d(y, warn=True)\n"
     ]
    },
    {
     "data": {
      "text/html": [
       "<style>#sk-container-id-1 {color: black;background-color: white;}#sk-container-id-1 pre{padding: 0;}#sk-container-id-1 div.sk-toggleable {background-color: white;}#sk-container-id-1 label.sk-toggleable__label {cursor: pointer;display: block;width: 100%;margin-bottom: 0;padding: 0.3em;box-sizing: border-box;text-align: center;}#sk-container-id-1 label.sk-toggleable__label-arrow:before {content: \"▸\";float: left;margin-right: 0.25em;color: #696969;}#sk-container-id-1 label.sk-toggleable__label-arrow:hover:before {color: black;}#sk-container-id-1 div.sk-estimator:hover label.sk-toggleable__label-arrow:before {color: black;}#sk-container-id-1 div.sk-toggleable__content {max-height: 0;max-width: 0;overflow: hidden;text-align: left;background-color: #f0f8ff;}#sk-container-id-1 div.sk-toggleable__content pre {margin: 0.2em;color: black;border-radius: 0.25em;background-color: #f0f8ff;}#sk-container-id-1 input.sk-toggleable__control:checked~div.sk-toggleable__content {max-height: 200px;max-width: 100%;overflow: auto;}#sk-container-id-1 input.sk-toggleable__control:checked~label.sk-toggleable__label-arrow:before {content: \"▾\";}#sk-container-id-1 div.sk-estimator input.sk-toggleable__control:checked~label.sk-toggleable__label {background-color: #d4ebff;}#sk-container-id-1 div.sk-label input.sk-toggleable__control:checked~label.sk-toggleable__label {background-color: #d4ebff;}#sk-container-id-1 input.sk-hidden--visually {border: 0;clip: rect(1px 1px 1px 1px);clip: rect(1px, 1px, 1px, 1px);height: 1px;margin: -1px;overflow: hidden;padding: 0;position: absolute;width: 1px;}#sk-container-id-1 div.sk-estimator {font-family: monospace;background-color: #f0f8ff;border: 1px dotted black;border-radius: 0.25em;box-sizing: border-box;margin-bottom: 0.5em;}#sk-container-id-1 div.sk-estimator:hover {background-color: #d4ebff;}#sk-container-id-1 div.sk-parallel-item::after {content: \"\";width: 100%;border-bottom: 1px solid gray;flex-grow: 1;}#sk-container-id-1 div.sk-label:hover label.sk-toggleable__label {background-color: #d4ebff;}#sk-container-id-1 div.sk-serial::before {content: \"\";position: absolute;border-left: 1px solid gray;box-sizing: border-box;top: 0;bottom: 0;left: 50%;z-index: 0;}#sk-container-id-1 div.sk-serial {display: flex;flex-direction: column;align-items: center;background-color: white;padding-right: 0.2em;padding-left: 0.2em;position: relative;}#sk-container-id-1 div.sk-item {position: relative;z-index: 1;}#sk-container-id-1 div.sk-parallel {display: flex;align-items: stretch;justify-content: center;background-color: white;position: relative;}#sk-container-id-1 div.sk-item::before, #sk-container-id-1 div.sk-parallel-item::before {content: \"\";position: absolute;border-left: 1px solid gray;box-sizing: border-box;top: 0;bottom: 0;left: 50%;z-index: -1;}#sk-container-id-1 div.sk-parallel-item {display: flex;flex-direction: column;z-index: 1;position: relative;background-color: white;}#sk-container-id-1 div.sk-parallel-item:first-child::after {align-self: flex-end;width: 50%;}#sk-container-id-1 div.sk-parallel-item:last-child::after {align-self: flex-start;width: 50%;}#sk-container-id-1 div.sk-parallel-item:only-child::after {width: 0;}#sk-container-id-1 div.sk-dashed-wrapped {border: 1px dashed gray;margin: 0 0.4em 0.5em 0.4em;box-sizing: border-box;padding-bottom: 0.4em;background-color: white;}#sk-container-id-1 div.sk-label label {font-family: monospace;font-weight: bold;display: inline-block;line-height: 1.2em;}#sk-container-id-1 div.sk-label-container {text-align: center;}#sk-container-id-1 div.sk-container {/* jupyter's `normalize.less` sets `[hidden] { display: none; }` but bootstrap.min.css set `[hidden] { display: none !important; }` so we also need the `!important` here to be able to override the default hidden behavior on the sphinx rendered scikit-learn.org. See: https://github.com/scikit-learn/scikit-learn/issues/21755 */display: inline-block !important;position: relative;}#sk-container-id-1 div.sk-text-repr-fallback {display: none;}</style><div id=\"sk-container-id-1\" class=\"sk-top-container\"><div class=\"sk-text-repr-fallback\"><pre>MLPClassifier(hidden_layer_sizes=(10, 100, 100), max_iter=1000, random_state=42)</pre><b>In a Jupyter environment, please rerun this cell to show the HTML representation or trust the notebook. <br />On GitHub, the HTML representation is unable to render, please try loading this page with nbviewer.org.</b></div><div class=\"sk-container\" hidden><div class=\"sk-item\"><div class=\"sk-estimator sk-toggleable\"><input class=\"sk-toggleable__control sk-hidden--visually\" id=\"sk-estimator-id-1\" type=\"checkbox\" checked><label for=\"sk-estimator-id-1\" class=\"sk-toggleable__label sk-toggleable__label-arrow\">MLPClassifier</label><div class=\"sk-toggleable__content\"><pre>MLPClassifier(hidden_layer_sizes=(10, 100, 100), max_iter=1000, random_state=42)</pre></div></div></div></div></div>"
      ],
      "text/plain": [
       "MLPClassifier(hidden_layer_sizes=(10, 100, 100), max_iter=1000, random_state=42)"
      ]
     },
     "execution_count": 20,
     "metadata": {},
     "output_type": "execute_result"
    }
   ],
   "source": [
    "scaler = StandardScaler() \n",
    "X = scaler.fit_transform(X)\n",
    "X_train, X_test, y_train, y_test = train_test_split(\n",
    "    X, y,\n",
    "    test_size=0.2,\n",
    "    random_state=42\n",
    ")\n",
    "clf = MLPClassifier(\n",
    "    hidden_layer_sizes=(10,100,100,),\n",
    "    max_iter=1000,\n",
    "    random_state=42\n",
    ")\n",
    "clf.fit(X_train,y_train)"
   ]
  },
  {
   "cell_type": "markdown",
   "id": "8b05747c",
   "metadata": {
    "cell_marker": "\"\"\"",
    "lines_to_next_cell": 0
   },
   "source": [
    "### Querying the model from the cloud storage bucket."
   ]
  },
  {
   "cell_type": "code",
   "execution_count": null,
   "id": "f9de5680",
   "metadata": {
    "lines_to_next_cell": 0
   },
   "outputs": [],
   "source": [
    "def load_scikit_model(file_name):\n",
    "    bucket_name = \"stroke_prediction123\"\n",
    "    source_blob = \"stroke/\" + file_name\n",
    "    \n",
    "    os.environ[\"GOOGLE_APPLICATION_CREDENTIALS\"] = \"Gcredentials.json\"\n",
    "    client = storage.Client()\n",
    "    \n",
    "    bucket = client.get_bucket(bucket_name)\n",
    "    blob = bucket.blob(source_blob)\n",
    "    \n",
    "    model_data = blob.download_as_string()\n",
    "    \n",
    "    model = joblib.load(BytesIO(model_data))\n",
    "    return(model)"
   ]
  },
  {
   "cell_type": "code",
   "execution_count": null,
   "id": "f44465cf",
   "metadata": {
    "lines_to_next_cell": 0
   },
   "outputs": [],
   "source": [
    "model = load_scikit_model(\"stroke_NN.sav\")"
   ]
  },
  {
   "cell_type": "code",
   "execution_count": null,
   "id": "925a592d",
   "metadata": {
    "lines_to_next_cell": 0
   },
   "outputs": [],
   "source": [
    "preproc = load_scikit_model(\"stroke_scaler.sav\")"
   ]
  },
  {
   "cell_type": "markdown",
   "id": "0533ba93",
   "metadata": {
    "cell_marker": "\"\"\"",
    "lines_to_next_cell": 0
   },
   "source": [
    "### Deployed Cloud Function source code"
   ]
  },
  {
   "cell_type": "markdown",
   "id": "3921da0c",
   "metadata": {
    "cell_marker": "\"\"\"",
    "lines_to_next_cell": 0
   },
   "source": [
    "\n",
    "The entry point is the `stroke_presence` function, which receives a JSON object with the following keys: `age`, `gender`, `heart_disease`, `avg_glucose_level`, `bmi`, and `smoking_status`. The function loads the model and the preprocessor from the cloud storage bucket, preprocesses the input data, and returns the prediction and the probability of a stroke.\n",
    "\n",
    "```python\n",
    "import warnings\n",
    "import google\n",
    "import joblib\n",
    "import pandas as pd\n",
    "import requests\n",
    "import sklearn\n",
    "from urllib.parse import parse_qs\n",
    "from google.cloud import storage\n",
    "import os\n",
    "from io import StringIO\n",
    "from joblib import load\n",
    "from io import BytesIO\n",
    "from flask import jsonify\n",
    "\n",
    "def stroke_presence(request):\n",
    "    print(\"Models\")\n",
    "    try:\n",
    "        with warnings.catch_warnings():\n",
    "            warnings.simplefilter(\"ignore\", UserWarning)\n",
    "            model = load_scikit_model(\"stroke_NN.sav\")\n",
    "            preproc = load_scikit_model(\"stroke_scaler.sav\")\n",
    "            print(\"Models Loaded!\")\n",
    "            \n",
    "            \n",
    "            print(request)\n",
    "            dictionary = request.get_json()\n",
    "            print(dictionary)\n",
    "            \n",
    "           \n",
    "            required_keys = ['age', 'gender', 'heart_disease', 'avg_glucose_level', 'bmi', 'smoking_status']\n",
    "            missing_keys = [key for key in required_keys if key not in dictionary]\n",
    "            if missing_keys:\n",
    "                raise ValueError(f\"Missing required parameter(s): {', '.join(missing_keys)}\")\n",
    "            \n",
    "            age = float(dictionary['age'])\n",
    "            gender = int(dictionary['gender']) \n",
    "            heart_disease = int(dictionary['heart_disease'])\n",
    "            avg_glucose_level = float(dictionary['avg_glucose_level'])\n",
    "            bmi = float(dictionary['bmi'])\n",
    "            smoking_status = int(dictionary['smoking_status'])  \n",
    "\n",
    "            print(\"Variables Set\")\n",
    "            \n",
    "            \n",
    "            X = preproc.transform([[age, gender, heart_disease, avg_glucose_level, bmi, smoking_status]])\n",
    "            predictions = model.predict(X)[0]\n",
    "            probability = str(round(model.predict_proba(X)[0][1] * 100, 2)) + \"%\"\n",
    "            print(\"Probabilities Calculated\")\n",
    "            print(predictions)\n",
    "            print(probability)\n",
    "            \n",
    "            return jsonify({\n",
    "                \"prediction\": int(predictions),\n",
    "                \"status\": 200,\n",
    "                \"prob_of_stroke\": probability\n",
    "            })\n",
    "    except Exception as e:\n",
    "        print(e)\n",
    "        return jsonify({\"status\": \"error\", \"message\": str(e)})\n",
    "\n",
    "def load_scikit_model(file_name):\n",
    "    bucket_name = \"stroke_prediction123\"\n",
    "    source_blob = \"stroke/\" + file_name\n",
    "    \n",
    "    os.environ[\"GOOGLE_APPLICATION_CREDENTIALS\"] = \"Gcredentials.json\"\n",
    "    client = storage.Client()\n",
    "    print(\"Client Created\")\n",
    "    bucket = client.get_bucket(bucket_name)\n",
    "    blob = bucket.blob(source_blob)\n",
    "    \n",
    "    model_data = blob.download_as_bytes()\n",
    "    model = joblib.load(BytesIO(model_data))\n",
    "    return model\n",
    "\n",
    "```"
   ]
  },
  {
   "cell_type": "markdown",
   "id": "cf4eb925",
   "metadata": {
    "cell_marker": "\"\"\"",
    "lines_to_next_cell": 0
   },
   "source": [
    "### Testing the API for the model"
   ]
  },
  {
   "cell_type": "code",
   "execution_count": null,
   "id": "1968048b",
   "metadata": {
    "lines_to_next_cell": 0
   },
   "outputs": [],
   "source": [
    "url = \"https://us-central1-spring-cloud-econ-446.cloudfunctions.net/stroke_function\""
   ]
  },
  {
   "cell_type": "code",
   "execution_count": null,
   "id": "99f61500",
   "metadata": {
    "lines_to_next_cell": 0
   },
   "outputs": [],
   "source": [
    "r  = requests.post(url,\n",
    "    json={ \n",
    "        \"age\":90,\n",
    "        \"gender\":1,\n",
    "        \"heart_disease\":1,\n",
    "        \"avg_glucose_level\":90,\n",
    "        \"bmi\":10, \n",
    "        \"smoking_status\":4                           \n",
    "    }\n",
    ")"
   ]
  },
  {
   "cell_type": "code",
   "execution_count": null,
   "id": "30a1641e",
   "metadata": {
    "lines_to_next_cell": 0
   },
   "outputs": [],
   "source": [
    "print(r.content.decode('utf-8'))"
   ]
  },
  {
   "cell_type": "markdown",
   "id": "d1830a0c",
   "metadata": {
    "lines_to_next_cell": 0
   },
   "source": [
    "<div style=\"border: 1px solid black; border-radius: 5px; overflow: hidden;\">\n",
    "    <div style=\"background-color: black; color: white; padding: 5px; text-align: left;\">\n",
    "       b.) \n",
    "    </div>\n",
    "    <div style=\"padding: 10px;\">\n",
    "        Make a user-friendly input page that takes the inputs to your ML model via widgets and displays the output. Upload a seperate .ipynb that makes this easy to use. (Next Assignment you will have tot urn this into a shareable webpage).\n",
    "    </div>"
   ]
  },
  {
   "cell_type": "markdown",
   "id": "4fb71409",
   "metadata": {
    "cell_marker": "\"\"\"",
    "lines_to_next_cell": 0
   },
   "source": [
    "The widget is included in the file `widget.ipynb`."
   ]
  },
  {
   "cell_type": "markdown",
   "id": "c5cead54",
   "metadata": {
    "lines_to_next_cell": 0
   },
   "source": [
    "<div style=\"border: 1px solid black; border-radius: 5px; overflow: hidden;\">\n",
    "    <div style=\"background-color: black; color: white; padding: 5px; text-align: left;\">\n",
    "       c.) \n",
    "    </div>\n",
    "    <div style=\"padding: 10px;\">\n",
    "        Think of a company that would use the ML app you just built. What employees could use this app what would they use it for? Write a short paragraph.\n",
    "    </div>"
   ]
  },
  {
   "cell_type": "markdown",
   "id": "1a847588",
   "metadata": {
    "cell_marker": "\"\"\""
   },
   "source": [
    "Americans. Our machine learning model is designed to predict the probability of a patient experiencing a stroke based on input parameters such as age, gender, presence of heart disease, BMI, glucose levels, and smoking status. Healthcare providers, including doctors, nurses, and medical researchers, could use this app to identify high-risk patients early on. By leveraging larger datasets, the app can improve the accuracy of predictions, facilitating the development of targeted prevention strategies and personalized treatment plans. Also, insurance companies and public health officials could utilize this model to assess population health risks, allocate resources more effectively, and implement preventive health measures on a broader scale."
   ]
  }
 ],
 "metadata": {
  "jupytext": {
   "cell_metadata_filter": "-all",
   "formats": "py:percent,ipynb",
   "main_language": "python"
  },
  "language_info": {
   "codemirror_mode": {
    "name": "ipython",
    "version": 3
   },
   "file_extension": ".py",
   "mimetype": "text/x-python",
   "name": "python",
   "nbconvert_exporter": "python",
   "pygments_lexer": "ipython3",
   "version": "3.11.5"
  }
 },
 "nbformat": 4,
 "nbformat_minor": 5
}
