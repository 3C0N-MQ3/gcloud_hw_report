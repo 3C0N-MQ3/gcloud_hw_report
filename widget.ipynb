{
 "cells": [
  {
   "cell_type": "markdown",
   "id": "424da6bd",
   "metadata": {
    "cell_marker": "\"\"\"",
    "lines_to_next_cell": 0
   },
   "source": [
    "<div style=\"text-align: left;\">\n",
    "    <h1>Stroke Prediction Widget</h1>\n",
    "    <h4>Applications of Cloud Computing and Big Data - ECON 446</h3>\n",
    "    <div style=\"padding: 20px 0;\">\n",
    "        <hr style=\"border: 0; height: 1px; background-image: linear-gradient(to right, rgba(0, 0, 0, 0), rgba(0, 0, 0, 0.75), rgba(0, 0, 0, 0));\">\n",
    "        <p><em>Bella Rakhlina</em><br>\n",
    "        <em>Lora Yovcheva</em><br>\n",
    "        <em>Mauricio Vargas-Estrada</em><br>\n",
    "        <br>Master Of Quantitative Economics<br>\n",
    "        University of California - Los Angeles</p>\n",
    "        <hr style=\"border: 0; height: 1px; background-image: linear-gradient(to right, rgba(0, 0, 0, 0), rgba(0, 0, 0, 0.75), rgba(0, 0, 0, 0));\">\n",
    "    </div>\n",
    "</div>"
   ]
  },
  {
   "cell_type": "code",
   "execution_count": 7,
   "id": "cecffc8e",
   "metadata": {
    "lines_to_next_cell": 0
   },
   "outputs": [],
   "source": [
    "import os\n",
    "import requests\n",
    "import joblib\n",
    "import ipywidgets as widgets\n",
    "\n",
    "from io import BytesIO\n",
    "from flask import Flask, request, jsonify\n",
    "from IPython.display import display, clear_output\n",
    "from google.cloud import storage"
   ]
  },
  {
   "cell_type": "code",
   "execution_count": 8,
   "id": "180330e5",
   "metadata": {
    "lines_to_next_cell": 0
   },
   "outputs": [],
   "source": [
    "app = Flask(__name__)"
   ]
  },
  {
   "cell_type": "code",
   "execution_count": 9,
   "id": "35bfac11",
   "metadata": {
    "lines_to_next_cell": 0
   },
   "outputs": [],
   "source": [
    "# Function to send POST request to external URL\n",
    "def send_prediction_request(age, gender, heart_disease, avg_glucose_level, bmi, smoking_status):\n",
    "    url = \"https://us-central1-spring-cloud-econ-446.cloudfunctions.net/stroke_function\"\n",
    "\n",
    "    # Map gender and smoking status to their integer values\n",
    "    gender_mapping = {'Male': 1, 'Female': 0}\n",
    "    smoking_status_mapping = {\n",
    "        'never smoked': 1,\n",
    "        'unknown': 2,\n",
    "        'formerly smoked': 3,\n",
    "        'smokes': 4\n",
    "    }\n",
    "\n",
    "    gender = gender_mapping[gender]\n",
    "    smoking_status = smoking_status_mapping[smoking_status]\n",
    "\n",
    "    data = {\n",
    "        \"age\": age,\n",
    "        \"gender\": gender,\n",
    "        \"heart_disease\": heart_disease,\n",
    "        \"avg_glucose_level\": avg_glucose_level,\n",
    "        \"bmi\": bmi,\n",
    "        \"smoking_status\": smoking_status\n",
    "    }\n",
    "    r = requests.post(url, json=data)\n",
    "    return r.content.decode('utf-8')"
   ]
  },
  {
   "cell_type": "code",
   "execution_count": 10,
   "id": "aa612721",
   "metadata": {
    "lines_to_next_cell": 0
   },
   "outputs": [],
   "source": [
    "@app.route('/predict', methods=['POST'])\n",
    "def stroke_presence():\n",
    "    print(\"Models\")\n",
    "    try:\n",
    "        with warnings.catch_warnings():\n",
    "            warnings.simplefilter(\"ignore\", UserWarning)\n",
    "            model = load_scikit_model(\"stroke_NN.sav\")\n",
    "            preproc = load_scikit_model(\"stroke_scaler.sav\")\n",
    "            print(\"Models Loaded!\")\n",
    "\n",
    "            # Convert request to request dictionary\n",
    "            dictionary = request.get_json()\n",
    "            print(dictionary)\n",
    "\n",
    "            # Extracting variables from the dictionary\n",
    "            required_keys = ['age', 'gender', 'heart_disease', 'avg_glucose_level', 'bmi', 'smoking_status']\n",
    "            missing_keys = [key for key in required_keys if key not in dictionary]\n",
    "            if missing_keys:\n",
    "                raise ValueError(f\"Missing required parameter(s): {', '.join(missing_keys)}\")\n",
    "\n",
    "            age = float(dictionary['age'])\n",
    "            gender = dictionary['gender']\n",
    "            if gender == 'Male':\n",
    "                gender = 0\n",
    "            elif gender == 'Female':\n",
    "                gender = 1\n",
    "            else:\n",
    "                raise ValueError(\"Invalid gender value\")\n",
    "\n",
    "            heart_disease = int(dictionary['heart_disease'])\n",
    "            avg_glucose_level = float(dictionary['avg_glucose_level'])\n",
    "            bmi = float(dictionary['bmi'])\n",
    "            smoking_status = dictionary['smoking_status']\n",
    "            if smoking_status == 'never smoked':\n",
    "                smoking_status = 1\n",
    "            elif smoking_status == 'unknown':\n",
    "                smoking_status = 2\n",
    "            elif smoking_status == 'formerly smoked':\n",
    "                smoking_status = 3\n",
    "            elif smoking_status == 'smokes':\n",
    "                smoking_status = 4\n",
    "            else:\n",
    "                raise ValueError(\"Invalid smoking status value\")\n",
    "\n",
    "            # Preprocess and make predictions\n",
    "            X = preproc.transform([[age, gender, heart_disease, avg_glucose_level, bmi, smoking_status]])\n",
    "            predictions = model.predict(X)[0]\n",
    "            probability = str(round(model.predict_proba(X)[0][1] * 100, 2)) + \"%\"\n",
    "            print(\"Probabilities Calculated\")\n",
    "            print(predictions)\n",
    "            print(probability)\n",
    "\n",
    "            return jsonify({\n",
    "                \"prediction\": int(predictions),\n",
    "                \"status\": 200,\n",
    "                \"prob_of_stroke\": probability\n",
    "            })\n",
    "    except Exception as e:\n",
    "        print(e)\n",
    "        return jsonify({\"status\": \"error\", \"message\": str(e)})"
   ]
  },
  {
   "cell_type": "code",
   "execution_count": 11,
   "id": "5be42adf",
   "metadata": {
    "lines_to_next_cell": 0
   },
   "outputs": [],
   "source": [
    "# Creating input widgets for the stroke prediction\n",
    "age_input = widgets.FloatText(value=0, description='Age:')\n",
    "gender_input = widgets.Dropdown(options=['Female', 'Male'], description='Gender:')\n",
    "heart_disease_input = widgets.Checkbox(value=False, description='Heart Disease:')\n",
    "avg_glucose_level_input = widgets.FloatText(value=0, description='Avg Glucose Level:')\n",
    "bmi_input = widgets.FloatText(value=0, description='BMI:')\n",
    "smoking_status_input = widgets.Dropdown(options=['never smoked', 'unknown', 'formerly smoked', 'smokes'], description='Smoking Status:')\n",
    "\n",
    "# Button to submit prediction\n",
    "predict_button = widgets.Button(description=\"Predict Stroke\")\n",
    "output_area = widgets.Output()\n",
    "\n",
    "def predict_stroke(b):\n",
    "    with output_area:\n",
    "        clear_output()\n",
    "        try:\n",
    "            # Collect input values\n",
    "            age = age_input.value\n",
    "            gender = gender_input.value\n",
    "            heart_disease = int(heart_disease_input.value)\n",
    "            avg_glucose_level = avg_glucose_level_input.value\n",
    "            bmi = bmi_input.value\n",
    "            smoking_status = smoking_status_input.value\n",
    "\n",
    "            # Send the request to the external URL\n",
    "            response = send_prediction_request(age, gender, heart_disease, avg_glucose_level, bmi, smoking_status)\n",
    "            print(f\"Response from external service: {response}\")\n",
    "        except Exception as e:\n",
    "            print(f\"Error: {str(e)}\")\n",
    "\n",
    "predict_button.on_click(predict_stroke)"
   ]
  },
  {
   "cell_type": "markdown",
   "id": "552c1e4c",
   "metadata": {
    "cell_marker": "\"\"\"",
    "lines_to_next_cell": 0
   },
   "source": [
    "<div style=\"text-align: center; background-color: #f9f9f9; padding: 20px; border-radius: 10px; box-shadow: 0px 4px 6px rgba(0, 0, 0, 0.1);\">\n",
    "    <h1 style=\"color: #4A90E2; font-family: 'Arial', sans-serif;\">Stroke Prediction Application</h1>\n",
    "    <p style=\"font-size: 18px; color: #333; font-family: 'Arial', sans-serif;\">Welcome to the Stroke Prediction App. Use the form below to predict the probability of stroke based on the input parameters.</p>\n",
    "</div>"
   ]
  },
  {
   "cell_type": "markdown",
   "id": "c9b2ec4b",
   "metadata": {
    "cell_marker": "\"\"\"",
    "lines_to_next_cell": 0
   },
   "source": [
    "<div style=\"text-align: left; background-color: #fff; padding: 15px; border-radius: 5px; box-shadow: 0px 4px 6px rgba(0, 0, 0, 0.1);\">\n",
    "    <h2 style=\"color: #4A90E2; font-family: 'Arial', sans-serif;\">Instructions</h2>\n",
    "    <ul style=\"font-size: 16px; color: #333; font-family: 'Arial', sans-serif;\">\n",
    "        <li><strong>Age:</strong> Your age in years.</li>\n",
    "        <li><strong>Gender:</strong> Your gender (Male or Female).</li>\n",
    "        <li><strong>Heart Disease:</strong> Check if you have any heart disease.</li>\n",
    "        <li><strong>Avg Glucose Level:</strong> Your average glucose level (mg/dL).</li>\n",
    "        <li><strong>BMI:</strong> Your Body Mass Index (kg/m²).</li>\n",
    "        <li><strong>Smoking Status:</strong> Your smoking status (never smoked, unknown, formerly smoked, smokes).</li>\n",
    "    </ul>\n",
    "    <p style=\"font-size: 16px; color: #333; font-family: 'Arial', sans-serif;\">\n",
    "        Click on the \"Predict Stroke\" button to get the prediction.\n",
    "    </p>\n",
    "</div>"
   ]
  },
  {
   "cell_type": "code",
   "execution_count": 12,
   "id": "45dc93f5",
   "metadata": {},
   "outputs": [
    {
     "data": {
      "application/vnd.jupyter.widget-view+json": {
       "model_id": "5495d737e95d48799cb44e40609e6b46",
       "version_major": 2,
       "version_minor": 0
      },
      "text/plain": [
       "FloatText(value=0.0, description='Age:')"
      ]
     },
     "metadata": {},
     "output_type": "display_data"
    },
    {
     "data": {
      "application/vnd.jupyter.widget-view+json": {
       "model_id": "ae27b8f30c2e46b6a05c08eb4215d17a",
       "version_major": 2,
       "version_minor": 0
      },
      "text/plain": [
       "Dropdown(description='Gender:', options=('Female', 'Male'), value='Female')"
      ]
     },
     "metadata": {},
     "output_type": "display_data"
    },
    {
     "data": {
      "application/vnd.jupyter.widget-view+json": {
       "model_id": "7c1b51628ba94748b5366f41659e6e1f",
       "version_major": 2,
       "version_minor": 0
      },
      "text/plain": [
       "Checkbox(value=False, description='Heart Disease:')"
      ]
     },
     "metadata": {},
     "output_type": "display_data"
    },
    {
     "data": {
      "application/vnd.jupyter.widget-view+json": {
       "model_id": "a2efbf0a32eb4e0c8437ba0191910eab",
       "version_major": 2,
       "version_minor": 0
      },
      "text/plain": [
       "FloatText(value=0.0, description='Avg Glucose Level:')"
      ]
     },
     "metadata": {},
     "output_type": "display_data"
    },
    {
     "data": {
      "application/vnd.jupyter.widget-view+json": {
       "model_id": "7cb41b60f6b942eaaf0833dd715b831a",
       "version_major": 2,
       "version_minor": 0
      },
      "text/plain": [
       "FloatText(value=0.0, description='BMI:')"
      ]
     },
     "metadata": {},
     "output_type": "display_data"
    },
    {
     "data": {
      "application/vnd.jupyter.widget-view+json": {
       "model_id": "f52bd2e455a84103a0042cb814f64336",
       "version_major": 2,
       "version_minor": 0
      },
      "text/plain": [
       "Dropdown(description='Smoking Status:', options=('never smoked', 'unknown', 'formerly smoked', 'smokes'), valu…"
      ]
     },
     "metadata": {},
     "output_type": "display_data"
    },
    {
     "data": {
      "application/vnd.jupyter.widget-view+json": {
       "model_id": "e91236fa887845edac1ee3dde7ca6f23",
       "version_major": 2,
       "version_minor": 0
      },
      "text/plain": [
       "Button(description='Predict Stroke', style=ButtonStyle())"
      ]
     },
     "metadata": {},
     "output_type": "display_data"
    },
    {
     "data": {
      "application/vnd.jupyter.widget-view+json": {
       "model_id": "00269787e4dd46748305ec8a0ee14b36",
       "version_major": 2,
       "version_minor": 0
      },
      "text/plain": [
       "Output()"
      ]
     },
     "metadata": {},
     "output_type": "display_data"
    }
   ],
   "source": [
    "display(age_input, gender_input, heart_disease_input, avg_glucose_level_input, bmi_input, smoking_status_input, predict_button, output_area)"
   ]
  }
 ],
 "metadata": {
  "jupytext": {
   "cell_metadata_filter": "-all",
   "formats": "py:percent,ipynb",
   "main_language": "python"
  },
  "language_info": {
   "codemirror_mode": {
    "name": "ipython",
    "version": 3
   },
   "file_extension": ".py",
   "mimetype": "text/x-python",
   "name": "python",
   "nbconvert_exporter": "python",
   "pygments_lexer": "ipython3",
   "version": "3.11.5"
  }
 },
 "nbformat": 4,
 "nbformat_minor": 5
}
